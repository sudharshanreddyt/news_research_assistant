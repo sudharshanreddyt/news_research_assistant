{
 "cells": [
  {
   "cell_type": "code",
   "execution_count": 15,
   "id": "1682d263",
   "metadata": {},
   "outputs": [],
   "source": [
    "from langchain_community.document_loaders import TextLoader"
   ]
  },
  {
   "cell_type": "code",
   "execution_count": 16,
   "id": "982e6a5b",
   "metadata": {},
   "outputs": [],
   "source": [
    "loader = TextLoader(\"./test_file.txt\")\n",
    "data = loader.load()"
   ]
  },
  {
   "cell_type": "code",
   "execution_count": 17,
   "id": "eb95c8ae",
   "metadata": {},
   "outputs": [
    {
     "data": {
      "text/plain": [
       "'End-to-end LLM project for beginners and intermediate users using langchain. \\nIn this LLM project, we will use langchain, openai API, and streamlit to build a news research tool that can be used by equity research analysts to conduct their research. \\nThis end-to-end NLP project will give you a good experience in building a real-life industry project that will add a lot of value to your data scientist or NLP engineer project portfolio.'"
      ]
     },
     "execution_count": 17,
     "metadata": {},
     "output_type": "execute_result"
    }
   ],
   "source": [
    "data[0].page_content"
   ]
  },
  {
   "cell_type": "code",
   "execution_count": 18,
   "id": "dfb9055f",
   "metadata": {},
   "outputs": [
    {
     "data": {
      "text/plain": [
       "{'source': './test_file.txt'}"
      ]
     },
     "execution_count": 18,
     "metadata": {},
     "output_type": "execute_result"
    }
   ],
   "source": [
    "data[0].metadata"
   ]
  },
  {
   "cell_type": "code",
   "execution_count": 20,
   "id": "5c124681",
   "metadata": {},
   "outputs": [],
   "source": [
    "from langchain_community.document_loaders import UnstructuredURLLoader"
   ]
  },
  {
   "cell_type": "code",
   "execution_count": 21,
   "id": "b77158dd",
   "metadata": {},
   "outputs": [],
   "source": [
    "urls = [\n",
    "   \"https://www.moneycontrol.com/news/business/banks/hdfc-bank-re-appoints-sanmoy-chakrabarti-as-chief-risk-officer-11259771.html\",\n",
    "   \"https://www.moneycontrol.com/news/business/markets/market-corrects-post-rbi-ups-inflation-forecast-icrr-bet-on-these-top-10-rate-sensitive-stocks-ideas-11142611.html\"\n",
    "]\n",
    "\n",
    "loader = UnstructuredURLLoader(urls = urls)\n",
    "data = loader.load()"
   ]
  },
  {
   "cell_type": "code",
   "execution_count": 24,
   "id": "4cbbd634",
   "metadata": {},
   "outputs": [
    {
     "data": {
      "text/plain": [
       "2"
      ]
     },
     "execution_count": 24,
     "metadata": {},
     "output_type": "execute_result"
    }
   ],
   "source": [
    "len(data)"
   ]
  },
  {
   "cell_type": "code",
   "execution_count": 23,
   "id": "f142028c",
   "metadata": {},
   "outputs": [
    {
     "data": {
      "text/plain": [
       "'English\\n\\nHindi\\n\\nGujarati\\n\\nSpecials\\n\\nHello, Login\\n\\nHello, Login\\n\\nLog-inor Sign-Up\\n\\nMy Account\\n\\nMy Profile\\n\\nMy Portfolio\\n\\nMy Watchlist\\n\\nMy Alerts\\n\\nMy Messages\\n\\nPrice Alerts\\n\\nMy Profile\\n\\nMy PRO\\n\\nMy Portfolio\\n\\nMy Watchlist\\n\\nMy Alerts\\n\\nMy Messages\\n\\nPrice Alerts\\n\\nLogout\\n\\nLoans up to ₹50 LAKHS\\n\\nFixed Deposits\\n\\nCredit CardsLifetime Free\\n\\nCredit Score\\n\\nChat with Us\\n\\nDownload App\\n\\nFollow us on:\\n\\nNetwork 18\\n\\nGo Ad-Free\\n\\nMy Alerts\\n\\n>->MC_ENG_DESKTOP/MC_ENG_NEWS/MC_ENG_BUSINESS_AS/MC_ENG_ROS_NWS_BUS_AS_ATF_728\\n\\nMoneycontrol\\n\\nGo PRO NowPRO\\n\\nMoneycontrol PRO\\n\\nAdvertisement\\n\\nRemove Ad\\n\\nBusiness\\n\\nMarkets\\n\\nStocks\\n\\nEconomy\\n\\nCompanies\\n\\nTrends\\n\\nIPO\\n\\nOpinion\\n\\nEV Special\\n\\nSansaar\\n\\nHomeNewsBusinessBanksHDFC Bank re-appoints Sanmoy Chakrabarti as Chief Risk Officer\\n\\nTrending Topics\\n\\nTata Capital IPO\\n\\nTrualt Bioenergy share price\\n\\nJinkushal Industries share price\\n\\nLG Electronics IPO\\n\\nAdvance Agrolife IPO GMP\\n\\nHDFC Bank re-appoints Sanmoy Chakrabarti as Chief Risk Officer\\n\\nChakrabarti has been appointed for a period of five years from December 14, 2023 to December 13, 2028.\\n\\nMoneycontrol News\\n\\nAugust 25, 2023 / 18:54 IST\\n\\njoin Us on WhatsApp\\n\\nFollow Us On Google\\n\\nAdd as a Preferred Source on Google\\n\\n\\n\\nHDFC Bank\\n\\nWatchlist\\n\\nPortfolio\\n\\nMessage\\n\\nSet Alert\\n\\n26 Aug, 2025 12:21\\n\\nVolume\\n\\nTodays L/H\\n\\nMore\\n\\nHDFC Bank, the country\\'s largest private sector lender, said on August 25 that its board approved the re-appointment of Sanmoy Chakrabarti as the Chief Risk Officer (CRO).\\n\\nAccording to the bank\\'s filing to the stock exchanges, Chakrabarti has been re-appointed for a period of five years.\\n\\nStory continues below Advertisement\\n\\nRemove Ad\\n\\n\"He will be the chief risk officer of the bank for a period of five years from December 14, 2023 to December 13, 2028,\" HDFC Bank said.\\n\\nChakrabarti, as the CRO of the bank, is responsible for determining the comprehensive risk appetite (covering Credit Risk, Market Risk, Operational Risk, Liquidity Risk, etc.) across various banking segments.\\n\\nAdditionally, he \"oversees the Enterprise Risk Management framework in the Bank and guides the formulations of policies and procedures for Internal Capital Adequacy Assessment Process, Stress Testing methodology, and Group Risk Management. He is also responsible for identifying and managing any emerging risk having material impact on Bank’s activities,\" according to the filing.\\n\\nChakrabarti, who holds M.S. in Quantitative Economics from the Indian Statistical Institute, is a member of the Indian Banks’ Association (IBA) Standing Committee on Risk Management and Basel Implementation, the filing added.\\n\\nMoneycontrol News\\n\\nfirst published: Aug 25, 2023 06:54 pm\\n\\nDiscover the latest Business News, Sensex, and Nifty updates. Obtain Personal Finance insights, tax queries, and expert opinions on Moneycontrol or download the Moneycontrol App to stay updated!\\n\\nAdvertisement\\n\\nRemove Ad\\n\\nAdvertisement\\n\\nRemove Ad\\n\\nAdvertisement\\n\\nRemove Ad\\n\\nSubscribe to Tech Newsletters\\n\\nOn Saturdays\\n\\nFind the best of Al News in one place, specially curated for you every weekend.\\n\\nDaily-Weekdays\\n\\nStay on top of the latest tech trends and biggest startup news.\\n\\nSubscribe\\n\\nAdvertisement\\n\\nRemove Ad\\n\\nAdvertisement\\n\\nRemove Ad\\n\\nAdvertisement\\n\\nRemove Ad\\n\\nAdvisory Alert:\\n\\nmoneycontrol\\n\\nFollow Us On:\\n\\nFacebook\\n\\ntwitter\\n\\ninstagram\\n\\nlinkedin\\n\\ntelegram\\n\\nyoutube\\n\\nStocks: A B C D E F G H I J K L M N O P Q R S T U V W X Y Z Others\\n\\nTrending Topics\\n\\nTata Capital IPO Bitcoin Price Prashant Kishor ITR Filing Jyotiraditya Scindia Darjeeling Rains Steve Jobs Cough syrup deaths Harmanpreet Kaur Sridhar Vembu\\n\\nNews\\n\\nBusiness Markets Stocks India News City News Economy Mutual Funds Personal Finance IPO News Startups\\n\\nMarkets\\n\\nHome Currencies Commodities Pre-Market IPO Global Market Bonds\\n\\nPersonal Finance\\n\\nHome Loans up to 50 Lakhs Credit Cards Lifetime Free Finance TrackerNew Fixed Deposits Fixed Deposit Comparison Fixed Income\\n\\nMutual Funds\\n\\nHome MC 30 Top Ranked Funds ETFs Mutual Fund Screener\\n\\nTools\\n\\nIncome Tax Calculator EMI Calculator Retirement Planning Gratuity Calculator Petrol Price in India Diesel Price in India IFSC Code\\n\\nCommunity\\n\\nStock Markets\\n\\nNetwork 18 Sites\\n\\nNews18 Firstpost CNBC TV18 News18 Hindi Cricketnext Overdrive\\n\\nQuick Links\\n\\nAbout Us Contact Us Advisory Alert Advertise with Us SupportDisclaimer Privacy Policy Cookie Policy Terms & Conditions Financial Terms (Glossary) Sitemap Investors\\n\\nDownload MC Apps:\\n\\n\\n\\n\\n\\n\\n\\nCopyright © Network18 Media & Investments Limited. All rights reserved. Reproduction of news articles, photos, videos or any other content in whole or in part in any form or medium without express written permission of moneycontrol.com is prohibited.\\n\\nYou got 30 Day’s Trial of\\n\\nMoneycontrol Pro\\n\\nMoneycontrol Pro\\n\\nGrab it Now\\n\\nAd-Free Experience\\n\\nTop Articles from Financial Times\\n\\nTop Articles from Financial Times\\n\\nActionable Insights\\n\\nMC Research\\n\\nEconomic Calendar\\n\\n& Many More\\n\\n& Many More\\n\\nYou are already a Moneycontrol Pro user.\\n\\nM Snehanjali'"
      ]
     },
     "execution_count": 23,
     "metadata": {},
     "output_type": "execute_result"
    }
   ],
   "source": [
    "data[0].page_content"
   ]
  },
  {
   "cell_type": "markdown",
   "id": "a18e55f0",
   "metadata": {},
   "source": [
    "# Text Splitters\n",
    "\n",
    "Why do we need text splitters in first place?\n",
    "\n",
    "LLM's have token limits. Hence we need to split the text which can be large into small chunks so that each chunk size is under the token limit. There are various text splitter classes in langchain that allows us to do this."
   ]
  },
  {
   "cell_type": "code",
   "execution_count": 27,
   "id": "9045b930",
   "metadata": {},
   "outputs": [],
   "source": [
    "text = \"\"\"Interstellar is a 2014 epic science fiction film co-written, directed, and produced by Christopher Nolan. \n",
    "It stars Matthew McConaughey, Anne Hathaway, Jessica Chastain, Bill Irwin, Ellen Burstyn, Matt Damon, and Michael Caine. \n",
    "Set in a dystopian future where humanity is embroiled in a catastrophic blight and famine, the film follows a group of astronauts who travel through a wormhole near Saturn in search of a new home for humankind.\n",
    "\n",
    "Brothers Christopher and Jonathan Nolan wrote the screenplay, which had its origins in a script Jonathan developed in 2007 and was originally set to be directed by Steven Spielberg. \n",
    "Kip Thorne, a Caltech theoretical physicist and 2017 Nobel laureate in Physics,[4] was an executive producer, acted as a scientific consultant, and wrote a tie-in book, The Science of Interstellar. \n",
    "Cinematographer Hoyte van Hoytema shot it on 35 mm movie film in the Panavision anamorphic format and IMAX 70 mm. Principal photography began in late 2013 and took place in Alberta, Iceland, and Los Angeles. \n",
    "Interstellar uses extensive practical and miniature effects, and the company Double Negative created additional digital effects.\n",
    "\n",
    "Interstellar premiered in Los Angeles on October 26, 2014. In the United States, it was first released on film stock, expanding to venues using digital projectors. The film received generally positive reviews from critics and grossed over $677 million worldwide ($715 million after subsequent re-releases), making it the tenth-highest-grossing film of 2014. \n",
    "It has been praised by astronomers for its scientific accuracy and portrayal of theoretical astrophysics.[5][6][7] Interstellar was nominated for five awards at the 87th Academy Awards, winning Best Visual Effects, and received numerous other accolades.\"\"\""
   ]
  },
  {
   "cell_type": "code",
   "execution_count": 28,
   "id": "531b1d81",
   "metadata": {},
   "outputs": [],
   "source": [
    "from langchain_text_splitters import CharacterTextSplitter"
   ]
  },
  {
   "cell_type": "code",
   "execution_count": null,
   "id": "93d6c6f7",
   "metadata": {},
   "outputs": [
    {
     "name": "stderr",
     "output_type": "stream",
     "text": [
      "Created a chunk of size 210, which is longer than the specified 200\n",
      "Created a chunk of size 208, which is longer than the specified 200\n",
      "Created a chunk of size 358, which is longer than the specified 200\n"
     ]
    },
    {
     "name": "stdout",
     "output_type": "stream",
     "text": [
      "9\n"
     ]
    }
   ],
   "source": [
    "splitter = CharacterTextSplitter(\n",
    "    chunk_size = 200,\n",
    "    chunk_overlap = 0,\n",
    "    separator = '\\n'\n",
    ")\n",
    "\n",
    "chunks = splitter.split_text(text)\n",
    "print(len(chunks))"
   ]
  },
  {
   "cell_type": "code",
   "execution_count": 39,
   "id": "a96cd2d9",
   "metadata": {},
   "outputs": [
    {
     "data": {
      "text/plain": [
       "['Interstellar is a 2014 epic science fiction film co-written, directed, and produced by Christopher Nolan.',\n",
       " 'It stars Matthew McConaughey, Anne Hathaway, Jessica Chastain, Bill Irwin, Ellen Burstyn, Matt Damon, and Michael Caine.',\n",
       " 'Set in a dystopian future where humanity is embroiled in a catastrophic blight and famine, the film follows a group of astronauts who travel through a wormhole near Saturn in search of a new home for humankind.',\n",
       " 'Brothers Christopher and Jonathan Nolan wrote the screenplay, which had its origins in a script Jonathan developed in 2007 and was originally set to be directed by Steven Spielberg.',\n",
       " 'Kip Thorne, a Caltech theoretical physicist and 2017 Nobel laureate in Physics,[4] was an executive producer, acted as a scientific consultant, and wrote a tie-in book, The Science of Interstellar.',\n",
       " 'Cinematographer Hoyte van Hoytema shot it on 35 mm movie film in the Panavision anamorphic format and IMAX 70 mm. Principal photography began in late 2013 and took place in Alberta, Iceland, and Los Angeles.',\n",
       " 'Interstellar uses extensive practical and miniature effects, and the company Double Negative created additional digital effects.',\n",
       " 'Interstellar premiered in Los Angeles on October 26, 2014. In the United States, it was first released on film stock, expanding to venues using digital projectors. The film received generally positive reviews from critics and grossed over $677 million worldwide ($715 million after subsequent re-releases), making it the tenth-highest-grossing film of 2014.',\n",
       " 'It has been praised by astronomers for its scientific accuracy and portrayal of theoretical astrophysics.[5][6][7] Interstellar was nominated for five awards at the 87th Academy Awards, winning Best Visual Effects, and received numerous other accolades.']"
      ]
     },
     "execution_count": 39,
     "metadata": {},
     "output_type": "execute_result"
    }
   ],
   "source": [
    "chunks"
   ]
  },
  {
   "cell_type": "code",
   "execution_count": 40,
   "id": "edd08ac7",
   "metadata": {},
   "outputs": [
    {
     "name": "stdout",
     "output_type": "stream",
     "text": [
      "105\n",
      "120\n",
      "210\n",
      "181\n",
      "197\n",
      "207\n",
      "128\n",
      "357\n",
      "253\n"
     ]
    }
   ],
   "source": [
    "for chunk in chunks:\n",
    "    print(len(chunk))"
   ]
  },
  {
   "cell_type": "code",
   "execution_count": 41,
   "id": "c94fef14",
   "metadata": {},
   "outputs": [],
   "source": [
    "from langchain_text_splitters import RecursiveCharacterTextSplitter"
   ]
  },
  {
   "cell_type": "code",
   "execution_count": 43,
   "id": "453e6708",
   "metadata": {},
   "outputs": [
    {
     "name": "stdout",
     "output_type": "stream",
     "text": [
      "13\n"
     ]
    }
   ],
   "source": [
    "r_splitter = RecursiveCharacterTextSplitter(\n",
    "    separators = [\"\\n\\n\", \"\\n\", \" \"],\n",
    "    chunk_size = 200,\n",
    "    chunk_overlap = 0\n",
    ")\n",
    "\n",
    "chunks = r_splitter.split_text(text)\n",
    "print(len(chunks))"
   ]
  },
  {
   "cell_type": "code",
   "execution_count": 44,
   "id": "f8b110cb",
   "metadata": {},
   "outputs": [
    {
     "name": "stdout",
     "output_type": "stream",
     "text": [
      "105\n",
      "120\n",
      "199\n",
      "10\n",
      "181\n",
      "197\n",
      "198\n",
      "8\n",
      "128\n",
      "191\n",
      "165\n",
      "198\n",
      "54\n"
     ]
    }
   ],
   "source": [
    "for chunk in chunks:\n",
    "    print(len(chunk))"
   ]
  },
  {
   "cell_type": "code",
   "execution_count": null,
   "id": "e9ac1e93",
   "metadata": {},
   "outputs": [],
   "source": []
  }
 ],
 "metadata": {
  "kernelspec": {
   "display_name": ".venv (3.13.5)",
   "language": "python",
   "name": "python3"
  },
  "language_info": {
   "codemirror_mode": {
    "name": "ipython",
    "version": 3
   },
   "file_extension": ".py",
   "mimetype": "text/x-python",
   "name": "python",
   "nbconvert_exporter": "python",
   "pygments_lexer": "ipython3",
   "version": "3.13.5"
  }
 },
 "nbformat": 4,
 "nbformat_minor": 5
}
